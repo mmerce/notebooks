{
 "cells": [
  {
   "cell_type": "markdown",
   "metadata": {},
   "source": [
    "# The API: Connecting to BigML"
   ]
  },
  {
   "cell_type": "markdown",
   "metadata": {
    "collapsed": true
   },
   "source": [
    "The BigML API offers an endpoint to create, get, update and delete every Machine Learning resource. <br/>\n",
    "This API is accessible via HTTP and its general public domain is [bigml.io](https://bigml.io). <br/>\n",
    "You will need some credentials that will be used to authenticate every request. <br/>\n",
    "We recommend to set them in environment variables for your convenience."
   ]
  },
  {
   "cell_type": "code",
   "execution_count": 4,
   "metadata": {
    "collapsed": false
   },
   "outputs": [
    {
     "name": "stdout",
     "output_type": "stream",
     "text": [
      "env: BIGML_USERNAME=merce_demo\n",
      "env: BIGML_API_KEY=9995b2f705b72de0c6ca90f1e1446acbf35daea8\n"
     ]
    }
   ],
   "source": [
    "# set your credentials as environment variables\n",
    "%env BIGML_USERNAME=merce_demo\n",
    "%env BIGML_API_KEY=9995b2f705b72de0c6ca90f1e1446acbf35daea8"
   ]
  },
  {
   "cell_type": "markdown",
   "metadata": {},
   "source": [
    "The API calls that you will need to issue contain these credentials as authentication token. For instance"
   ]
  },
  {
   "cell_type": "code",
   "execution_count": 5,
   "metadata": {
    "collapsed": false,
    "scrolled": true
   },
   "outputs": [
    {
     "name": "stdout",
     "output_type": "stream",
     "text": [
      "https://bigml.io/source?username=merce_demo;api_key=9995b2f705b72de0c6ca90f1e1446acbf35daea8;limit=1\n"
     ]
    }
   ],
   "source": [
    "url = \"https://bigml.io/source?username=merce_demo;api_key=9995b2f705b72de0c6ca90f1e1446acbf35daea8;limit=1\"\n",
    "print(url)"
   ]
  },
  {
   "cell_type": "code",
   "execution_count": 6,
   "metadata": {
    "collapsed": false
   },
   "outputs": [
    {
     "name": "stdout",
     "output_type": "stream",
     "text": [
      "{\"meta\": {\"limit\": 1, \"next\": \"/andromeda/source?username=merce_demo&api_key=9995b2f705b72de0c6ca90f1e1446acbf35daea8&limit=1&offset=1\", \"offset\": 0, \"previous\": null, \"total_count\": 352}, \"objects\": [{\"category\": 12, \"charset\": \"UTF-8\", \"code\": 200, \"configuration\": null, \"configuration_status\": false, \"content_type\": \"text/csv\", \"created\": \"2019-03-06T23:24:32.657000\", \"creator\": \"merce_demo\", \"credits\": 0, \"description\": \"Created using BigMLer\", \"disable_datetime\": false, \"field_types\": {\"categorical\": 1, \"datetime\": 0, \"items\": 0, \"numeric\": 8, \"text\": 0, \"total\": 9}, \"fields_meta\": {\"count\": 9, \"limit\": 200, \"offset\": 0, \"query_total\": 9, \"total\": 9}, \"file_name\": \"diabetes_more.csv\", \"item_analysis\": {}, \"md5\": \"460be5cd506263cbac1331db14049f91\", \"name\": \"Cumulative diabetes data\", \"name_options\": \"9 fields (1 categorical, 8 numeric)\", \"number_of_anomalies\": 0, \"number_of_anomalyscores\": 0, \"number_of_associations\": 0, \"number_of_associationsets\": 0, \"number_of_centroids\": 0, \"number_of_clusters\": 0, \"number_of_correlations\": 0, \"number_of_datasets\": 2, \"number_of_deepnets\": 0, \"number_of_ensembles\": 0, \"number_of_forecasts\": 0, \"number_of_logisticregressions\": 0, \"number_of_models\": 1, \"number_of_optimls\": 0, \"number_of_pca\": 0, \"number_of_predictions\": 0, \"number_of_projections\": 0, \"number_of_statisticaltests\": 0, \"number_of_timeseries\": 0, \"number_of_topicdistributions\": 0, \"number_of_topicmodels\": 0, \"private\": true, \"project\": null, \"resource\": \"source/5c8056b07811dd1853006c64\", \"shared\": false, \"size\": 6905, \"source_parser\": {\"header\": true, \"locale\": \"en_US\", \"missing_tokens\": [\"\", \"NaN\", \"NULL\", \"N/A\", \"null\", \"-\", \"#REF!\", \"#VALUE!\", \"?\", \"#NULL!\", \"#NUM!\", \"#DIV/0\", \"n/a\", \"#NAME?\", \"NIL\", \"nil\", \"na\", \"#N/A\", \"NA\"], \"quote\": \"\\\"\", \"separator\": \",\"}, \"status\": {\"code\": 5, \"elapsed\": 402, \"message\": \"The source has been created\", \"progress\": 1}, \"subscription\": false, \"tags\": [\"best_diabetes\", \"BigMLer\", \"BigMLer_WedMar0619_232320\"], \"term_analysis\": {\"enabled\": true}, \"type\": 0, \"updated\": \"2019-03-06T23:24:53.361000\"}]}"
     ]
    }
   ],
   "source": [
    "!curl \"https://bigml.io/source?username=$BIGML_USERNAME;api_key=$BIGML_API_KEY;limit=1\""
   ]
  },
  {
   "cell_type": "markdown",
   "metadata": {},
   "source": [
    "lists the last previously uploaded file in your account.<br/>\n",
    "Managing resources using these raw HTTP calls is, of course, possible but not optimal.<br/>\n",
    "Bindings to several languages will make easier resource management."
   ]
  },
  {
   "cell_type": "markdown",
   "metadata": {},
   "source": [
    "## The bindings: connecting to BigML"
   ]
  },
  {
   "cell_type": "markdown",
   "metadata": {},
   "source": [
    "From now on, this notebook uses the **Python bindings library** and **BigMLer**, a command line utility, to access the BigML API. \n",
    "Please, check the **quick start** section of [BigMLer's documentation](http://bigmler.readthedocs.org/en/latest/#quick-start) to know how to **install** and remember to [set your **credentials**](http://bigml.readthedocs.org/en/latest/#authentication) before using **BigMLer** or the bindings."
   ]
  },
  {
   "cell_type": "code",
   "execution_count": 7,
   "metadata": {
    "collapsed": false
   },
   "outputs": [
    {
     "name": "stdout",
     "output_type": "stream",
     "text": [
      "https://bigml.io/andromeda/?username=merce_demo;api_key=9995b2f705b72de0c6ca90f1e1446acbf35daea8;\n"
     ]
    }
   ],
   "source": [
    "from bigml.api import BigML\n",
    "api = BigML() # Credentials are imported from environment variables\n",
    "              # BIGML_USERNAME and BIGML_API_KEY.\n",
    "              # They can also be set explicitly: api = BigML([username], [api_key])\n",
    "print(api.url + api.auth)"
   ]
  },
  {
   "cell_type": "markdown",
   "metadata": {},
   "source": [
    "The next instruction should show the last uploaded source in your account. If that's the case, your credentials are correctly set and you are ready to start creating your resources in BigML"
   ]
  },
  {
   "cell_type": "code",
   "execution_count": 8,
   "metadata": {
    "collapsed": false
   },
   "outputs": [
    {
     "data": {
      "text/plain": [
       "{'code': 200,\n",
       " 'error': None,\n",
       " 'meta': {'limit': 1,\n",
       "  'next': '/andromeda/source?username=merce_demo&api_key=9995b2f705b72de0c6ca90f1e1446acbf35daea8&limit=1&offset=1',\n",
       "  'offset': 0,\n",
       "  'previous': None,\n",
       "  'total_count': 352},\n",
       " 'objects': [{'category': 12,\n",
       "   'charset': 'UTF-8',\n",
       "   'code': 200,\n",
       "   'configuration': None,\n",
       "   'configuration_status': False,\n",
       "   'content_type': 'text/csv',\n",
       "   'created': '2019-03-06T23:24:32.657000',\n",
       "   'creator': 'merce_demo',\n",
       "   'credits': 0,\n",
       "   'description': 'Created using BigMLer',\n",
       "   'disable_datetime': False,\n",
       "   'field_types': {'categorical': 1,\n",
       "    'datetime': 0,\n",
       "    'items': 0,\n",
       "    'numeric': 8,\n",
       "    'text': 0,\n",
       "    'total': 9},\n",
       "   'fields_meta': {'count': 9,\n",
       "    'limit': 200,\n",
       "    'offset': 0,\n",
       "    'query_total': 9,\n",
       "    'total': 9},\n",
       "   'file_name': 'diabetes_more.csv',\n",
       "   'item_analysis': {},\n",
       "   'md5': '460be5cd506263cbac1331db14049f91',\n",
       "   'name': 'Cumulative diabetes data',\n",
       "   'name_options': '9 fields (1 categorical, 8 numeric)',\n",
       "   'number_of_anomalies': 0,\n",
       "   'number_of_anomalyscores': 0,\n",
       "   'number_of_associations': 0,\n",
       "   'number_of_associationsets': 0,\n",
       "   'number_of_centroids': 0,\n",
       "   'number_of_clusters': 0,\n",
       "   'number_of_correlations': 0,\n",
       "   'number_of_datasets': 2,\n",
       "   'number_of_deepnets': 0,\n",
       "   'number_of_ensembles': 0,\n",
       "   'number_of_forecasts': 0,\n",
       "   'number_of_logisticregressions': 0,\n",
       "   'number_of_models': 1,\n",
       "   'number_of_optimls': 0,\n",
       "   'number_of_pca': 0,\n",
       "   'number_of_predictions': 0,\n",
       "   'number_of_projections': 0,\n",
       "   'number_of_statisticaltests': 0,\n",
       "   'number_of_timeseries': 0,\n",
       "   'number_of_topicdistributions': 0,\n",
       "   'number_of_topicmodels': 0,\n",
       "   'private': True,\n",
       "   'project': None,\n",
       "   'resource': 'source/5c8056b07811dd1853006c64',\n",
       "   'shared': False,\n",
       "   'size': 6905,\n",
       "   'source_parser': {'header': True,\n",
       "    'locale': 'en_US',\n",
       "    'missing_tokens': ['',\n",
       "     'NaN',\n",
       "     'NULL',\n",
       "     'N/A',\n",
       "     'null',\n",
       "     '-',\n",
       "     '#REF!',\n",
       "     '#VALUE!',\n",
       "     '?',\n",
       "     '#NULL!',\n",
       "     '#NUM!',\n",
       "     '#DIV/0',\n",
       "     'n/a',\n",
       "     '#NAME?',\n",
       "     'NIL',\n",
       "     'nil',\n",
       "     'na',\n",
       "     '#N/A',\n",
       "     'NA'],\n",
       "    'quote': '\"',\n",
       "    'separator': ','},\n",
       "   'status': {'code': 5,\n",
       "    'elapsed': 402,\n",
       "    'message': 'The source has been created',\n",
       "    'progress': 1},\n",
       "   'subscription': False,\n",
       "   'tags': ['best_diabetes', 'BigMLer', 'BigMLer_WedMar0619_232320'],\n",
       "   'term_analysis': {'enabled': True},\n",
       "   'type': 0,\n",
       "   'updated': '2019-03-06T23:24:53.361000'}]}"
      ]
     },
     "execution_count": 8,
     "metadata": {},
     "output_type": "execute_result"
    }
   ],
   "source": [
    "api.list_sources(\"limit=1\")"
   ]
  },
  {
   "cell_type": "markdown",
   "metadata": {},
   "source": [
    "### PREDICTION WORKFLOW"
   ]
  },
  {
   "cell_type": "code",
   "execution_count": 9,
   "metadata": {
    "collapsed": false,
    "scrolled": true
   },
   "outputs": [
    {
     "data": {
      "text/html": [
       "<div>\n",
       "<table border=\"1\" class=\"dataframe\">\n",
       "  <thead>\n",
       "    <tr style=\"text-align: right;\">\n",
       "      <th></th>\n",
       "      <th>pregnancies</th>\n",
       "      <th>plasma glucose</th>\n",
       "      <th>blood pressure</th>\n",
       "      <th>triceps skin thickness</th>\n",
       "      <th>insulin</th>\n",
       "      <th>bmi</th>\n",
       "      <th>diabetes pedigree</th>\n",
       "      <th>age</th>\n",
       "      <th>diabetes</th>\n",
       "    </tr>\n",
       "  </thead>\n",
       "  <tbody>\n",
       "    <tr>\n",
       "      <th>0</th>\n",
       "      <td>6</td>\n",
       "      <td>148</td>\n",
       "      <td>72</td>\n",
       "      <td>35</td>\n",
       "      <td>0</td>\n",
       "      <td>33.6</td>\n",
       "      <td>0.627</td>\n",
       "      <td>50</td>\n",
       "      <td>True</td>\n",
       "    </tr>\n",
       "    <tr>\n",
       "      <th>1</th>\n",
       "      <td>1</td>\n",
       "      <td>85</td>\n",
       "      <td>66</td>\n",
       "      <td>29</td>\n",
       "      <td>0</td>\n",
       "      <td>26.6</td>\n",
       "      <td>0.351</td>\n",
       "      <td>31</td>\n",
       "      <td>False</td>\n",
       "    </tr>\n",
       "    <tr>\n",
       "      <th>2</th>\n",
       "      <td>8</td>\n",
       "      <td>183</td>\n",
       "      <td>64</td>\n",
       "      <td>0</td>\n",
       "      <td>0</td>\n",
       "      <td>23.3</td>\n",
       "      <td>0.672</td>\n",
       "      <td>32</td>\n",
       "      <td>True</td>\n",
       "    </tr>\n",
       "    <tr>\n",
       "      <th>3</th>\n",
       "      <td>1</td>\n",
       "      <td>89</td>\n",
       "      <td>66</td>\n",
       "      <td>23</td>\n",
       "      <td>94</td>\n",
       "      <td>28.1</td>\n",
       "      <td>0.167</td>\n",
       "      <td>21</td>\n",
       "      <td>False</td>\n",
       "    </tr>\n",
       "    <tr>\n",
       "      <th>4</th>\n",
       "      <td>0</td>\n",
       "      <td>137</td>\n",
       "      <td>40</td>\n",
       "      <td>35</td>\n",
       "      <td>168</td>\n",
       "      <td>43.1</td>\n",
       "      <td>2.288</td>\n",
       "      <td>33</td>\n",
       "      <td>True</td>\n",
       "    </tr>\n",
       "  </tbody>\n",
       "</table>\n",
       "</div>"
      ],
      "text/plain": [
       "   pregnancies  plasma glucose  blood pressure  triceps skin thickness  \\\n",
       "0            6             148              72                      35   \n",
       "1            1              85              66                      29   \n",
       "2            8             183              64                       0   \n",
       "3            1              89              66                      23   \n",
       "4            0             137              40                      35   \n",
       "\n",
       "   insulin   bmi  diabetes pedigree  age diabetes  \n",
       "0        0  33.6              0.627   50     True  \n",
       "1        0  26.6              0.351   31    False  \n",
       "2        0  23.3              0.672   32     True  \n",
       "3       94  28.1              0.167   21    False  \n",
       "4      168  43.1              2.288   33     True  "
      ]
     },
     "metadata": {},
     "output_type": "display_data"
    }
   ],
   "source": [
    "import pandas as pd\n",
    "import sys\n",
    "from pprint import pprint, pformat\n",
    "from IPython.display import display\n",
    "# DIABETES_FILE = 'https://static.bigml.com/csv/diabetes.csv' # you can also import from a remote file\n",
    "DIABETES_FILE = 'data/diabetes.csv'\n",
    "display(pd.read_csv(DIABETES_FILE, nrows=5))"
   ]
  },
  {
   "cell_type": "markdown",
   "metadata": {},
   "source": [
    "Let's upload this file and see how this content is interpreted from the Machine Learning point of view.<br/>\n",
    "We'll first create a **Project**, an organizational unit to store every resource generated in this session."
   ]
  },
  {
   "cell_type": "markdown",
   "metadata": {},
   "source": [
    "#### CREATING PROJECT"
   ]
  },
  {
   "cell_type": "code",
   "execution_count": 10,
   "metadata": {
    "collapsed": false
   },
   "outputs": [],
   "source": [
    "PROJECT_NAME = \"MLSEV Python bindings example\"\n",
    "project = api.create_project({'name': PROJECT_NAME})"
   ]
  },
  {
   "cell_type": "markdown",
   "metadata": {},
   "source": [
    "**Projects** and **predictions** are the only resources that are **synchronous** in **BigML**, meaning that when you issue the create call the response you get is never a work in process, but the final resource."
   ]
  },
  {
   "cell_type": "code",
   "execution_count": 11,
   "metadata": {
    "collapsed": false
   },
   "outputs": [
    {
     "name": "stdout",
     "output_type": "stream",
     "text": [
      "{'code': 201,\n",
      " 'error': None,\n",
      " 'location': 'http://bigml.io/andromeda/project/5c815181c7736e3b48008aac',\n",
      " 'object': {'category': 0,\n",
      "            'code': 201,\n",
      "            'configuration': None,\n",
      "            'configuration_status': False,\n",
      "            'created': '2019-03-07T17:14:41.063983',\n",
      "            'creator': 'merce_demo',\n",
      "            'description': '',\n",
      "            'execution_id': None,\n",
      "            'execution_status': None,\n",
      "            'manage_permission': [],\n",
      "            'name': 'MLSEV Python bindings example',\n",
      "            'name_options': '',\n",
      "            'private': True,\n",
      "            'resource': 'project/5c815181c7736e3b48008aac',\n",
      "            'stats': {'anomalies': {'count': 0},\n",
      "                      'anomalyscores': {'count': 0},\n",
      "                      'associations': {'count': 0},\n",
      "                      'associationsets': {'count': 0},\n",
      "                      'batchanomalyscores': {'count': 0},\n",
      "                      'batchcentroids': {'count': 0},\n",
      "                      'batchpredictions': {'count': 0},\n",
      "                      'batchprojections': {'count': 0},\n",
      "                      'batchtopicdistributions': {'count': 0},\n",
      "                      'centroids': {'count': 0},\n",
      "                      'clusters': {'count': 0},\n",
      "                      'composites': {'count': 0},\n",
      "                      'configurations': {'count': 0},\n",
      "                      'correlations': {'count': 0},\n",
      "                      'datasets': {'count': 0},\n",
      "                      'deepnets': {'count': 0},\n",
      "                      'ensembles': {'count': 0},\n",
      "                      'evaluations': {'count': 0},\n",
      "                      'executions': {'count': 0},\n",
      "                      'forecasts': {'count': 0},\n",
      "                      'fusions': {'count': 0},\n",
      "                      'libraries': {'count': 0},\n",
      "                      'logisticregressions': {'count': 0},\n",
      "                      'models': {'count': 0},\n",
      "                      'optimls': {'count': 0},\n",
      "                      'pca': {'count': 0},\n",
      "                      'predictions': {'count': 0},\n",
      "                      'projections': {'count': 0},\n",
      "                      'samples': {'count': 0},\n",
      "                      'scripts': {'count': 0},\n",
      "                      'sources': {'count': 0},\n",
      "                      'statisticaltests': {'count': 0},\n",
      "                      'timeseries': {'count': 0},\n",
      "                      'topicdistributions': {'count': 0},\n",
      "                      'topicmodels': {'count': 0}},\n",
      "            'status': {'code': 5,\n",
      "                       'message': 'The project has been created',\n",
      "                       'progress': 1},\n",
      "            'tags': [],\n",
      "            'type': 0,\n",
      "            'updated': '2019-03-07T17:14:41.064005',\n",
      "            'user_metadata': {},\n",
      "            'webhook': None},\n",
      " 'resource': 'project/5c815181c7736e3b48008aac'}\n"
     ]
    }
   ],
   "source": [
    "pprint(project)"
   ]
  },
  {
   "cell_type": "markdown",
   "metadata": {},
   "source": [
    "The first level attributes of this dictionary contain:\n",
    "\n",
    "- code: the HTTP response status code\n",
    "- error: the error information (when an HTTP error occurs)\n",
    "- location: the location to access the resource\n",
    "- object: the API's response\n",
    "- resource: the **resource ID**"
   ]
  },
  {
   "cell_type": "code",
   "execution_count": 12,
   "metadata": {
    "collapsed": true
   },
   "outputs": [],
   "source": [
    "PROJECT = project['resource']"
   ]
  },
  {
   "cell_type": "markdown",
   "metadata": {},
   "source": [
    "The rest of resources in **BigML** are **asynchronous**, so you will need polling for the resource till it is either finished or faulty. We'll see the first example now, when we upload our data to the platform and create a **source**."
   ]
  },
  {
   "cell_type": "markdown",
   "metadata": {
    "collapsed": true
   },
   "source": [
    "#### CREATING SOURCE\n",
    "When data is uploaded to the platform a **source** is created"
   ]
  },
  {
   "cell_type": "code",
   "execution_count": 13,
   "metadata": {
    "collapsed": false,
    "scrolled": true
   },
   "outputs": [
    {
     "name": "stdout",
     "output_type": "stream",
     "text": [
      "{'code': 201,\n",
      " 'error': None,\n",
      " 'location': 'http://bigml.io/andromeda/source/5c815231c7736e3b48008abb',\n",
      " 'object': {'category': 0,\n",
      "            'code': 201,\n",
      "            'configuration': None,\n",
      "            'configuration_status': False,\n",
      "            'content_type': 'text/csv',\n",
      "            'created': '2019-03-07T17:17:37.991396',\n",
      "            'creator': 'merce_demo',\n",
      "            'credits': 0.0,\n",
      "            'description': '',\n",
      "            'disable_datetime': False,\n",
      "            'field_types': {'categorical': 0,\n",
      "                            'datetime': 0,\n",
      "                            'items': 0,\n",
      "                            'numeric': 0,\n",
      "                            'text': 0,\n",
      "                            'total': 0},\n",
      "            'fields_meta': {'count': 0, 'limit': 1000, 'offset': 0, 'total': 0},\n",
      "            'file_name': 'diabetes.csv',\n",
      "            'item_analysis': {},\n",
      "            'md5': '460be5cd506263cbac1331db14049f91',\n",
      "            'name': 'diabetes source',\n",
      "            'name_options': '',\n",
      "            'number_of_anomalies': 0,\n",
      "            'number_of_anomalyscores': 0,\n",
      "            'number_of_associations': 0,\n",
      "            'number_of_associationsets': 0,\n",
      "            'number_of_centroids': 0,\n",
      "            'number_of_clusters': 0,\n",
      "            'number_of_correlations': 0,\n",
      "            'number_of_datasets': 0,\n",
      "            'number_of_deepnets': 0,\n",
      "            'number_of_ensembles': 0,\n",
      "            'number_of_forecasts': 0,\n",
      "            'number_of_logisticregressions': 0,\n",
      "            'number_of_models': 0,\n",
      "            'number_of_optimls': 0,\n",
      "            'number_of_pca': 0,\n",
      "            'number_of_predictions': 0,\n",
      "            'number_of_projections': 0,\n",
      "            'number_of_statisticaltests': 0,\n",
      "            'number_of_timeseries': 0,\n",
      "            'number_of_topicdistributions': 0,\n",
      "            'number_of_topicmodels': 0,\n",
      "            'private': True,\n",
      "            'project': 'project/5c815181c7736e3b48008aac',\n",
      "            'resource': 'source/5c815231c7736e3b48008abb',\n",
      "            'shared': False,\n",
      "            'size': 6905,\n",
      "            'source_parser': {},\n",
      "            'status': {'code': 1,\n",
      "                       'message': 'The source creation request has been queued '\n",
      "                                  'and will be processed soon',\n",
      "                       'progress': 0},\n",
      "            'subscription': False,\n",
      "            'tags': ['bindings example', 'diabetes'],\n",
      "            'term_analysis': {},\n",
      "            'type': 0,\n",
      "            'updated': '2019-03-07T17:17:37.991444'},\n",
      " 'resource': 'source/5c815231c7736e3b48008abb'}\n"
     ]
    }
   ],
   "source": [
    "source = api.create_source(DIABETES_FILE,\n",
    "                           {'name': 'diabetes source', \\\n",
    "                            'tags': ['bindings example', 'diabetes'], \\\n",
    "                            'project': PROJECT})\n",
    "\"\"\"\n",
    "    CSV, ARFF, Excel and JSON files, either local or remote, can be uploaded.\n",
    "    For instance, you could use a remote diabetes:\n",
    "    DIABETES_FILE = \"https://static.bigml.com/csv/diabetes.csv\"\n",
    "    \n",
    "\"\"\"\n",
    "pprint(source)"
   ]
  },
  {
   "cell_type": "markdown",
   "metadata": {},
   "source": [
    "As you can see, this response does not contain any of the uploaded information yet. The **status** of the resource shows that the source creation request is in process. We'll have to wait for this process to finish. This is what **api.ok** does"
   ]
  },
  {
   "cell_type": "code",
   "execution_count": 14,
   "metadata": {
    "collapsed": false
   },
   "outputs": [
    {
     "name": "stdout",
     "output_type": "stream",
     "text": [
      "{'category': 0,\n",
      " 'charset': 'UTF-8',\n",
      " 'code': 200,\n",
      " 'configuration': None,\n",
      " 'configuration_status': False,\n",
      " 'content_type': 'text/csv',\n",
      " 'created': '2019-03-07T17:17:37.991000',\n",
      " 'creator': 'merce_demo',\n",
      " 'credits': 0,\n",
      " 'description': '',\n",
      " 'disable_datetime': False,\n",
      " 'field_types': {'categorical': 1,\n",
      "                 'datetime': 0,\n",
      "                 'items': 0,\n",
      "                 'numeric': 8,\n",
      "                 'text': 0,\n",
      "                 'total': 9},\n",
      " 'fields': {'000000': {'column_number': 0,\n",
      "                       'name': 'pregnancies',\n",
      "                       'optype': 'numeric',\n",
      "                       'order': 0},\n",
      "            '000001': {'column_number': 1,\n",
      "                       'name': 'plasma glucose',\n",
      "                       'optype': 'numeric',\n",
      "                       'order': 1},\n",
      "            '000002': {'column_number': 2,\n",
      "                       'name': 'blood pressure',\n",
      "                       'optype': 'numeric',\n",
      "                       'order': 2},\n",
      "            '000003': {'column_number': 3,\n",
      "                       'name': 'triceps skin thickness',\n",
      "                       'optype': 'numeric',\n",
      "                       'order': 3},\n",
      "            '000004': {'column_number': 4,\n",
      "                       'name': 'insulin',\n",
      "                       'optype': 'numeric',\n",
      "                       'order': 4},\n",
      "            '000005': {'column_number': 5,\n",
      "                       'name': 'bmi',\n",
      "                       'optype': 'numeric',\n",
      "                       'order': 5},\n",
      "            '000006': {'column_number': 6,\n",
      "                       'name': 'diabetes pedigree',\n",
      "                       'optype': 'numeric',\n",
      "                       'order': 6},\n",
      "            '000007': {'column_number': 7,\n",
      "                       'name': 'age',\n",
      "                       'optype': 'numeric',\n",
      "                       'order': 7},\n",
      "            '000008': {'column_number': 8,\n",
      "                       'name': 'diabetes',\n",
      "                       'optype': 'categorical',\n",
      "                       'order': 8,\n",
      "                       'term_analysis': {'enabled': True}}},\n",
      " 'fields_meta': {'count': 9,\n",
      "                 'limit': 1000,\n",
      "                 'offset': 0,\n",
      "                 'query_total': 9,\n",
      "                 'total': 9},\n",
      " 'file_name': 'diabetes.csv',\n",
      " 'item_analysis': {},\n",
      " 'md5': '460be5cd506263cbac1331db14049f91',\n",
      " 'name': 'diabetes source',\n",
      " 'name_options': '9 fields (1 categorical, 8 numeric)',\n",
      " 'number_of_anomalies': 0,\n",
      " 'number_of_anomalyscores': 0,\n",
      " 'number_of_associations': 0,\n",
      " 'number_of_associationsets': 0,\n",
      " 'number_of_centroids': 0,\n",
      " 'number_of_clusters': 0,\n",
      " 'number_of_correlations': 0,\n",
      " 'number_of_datasets': 0,\n",
      " 'number_of_deepnets': 0,\n",
      " 'number_of_ensembles': 0,\n",
      " 'number_of_forecasts': 0,\n",
      " 'number_of_logisticregressions': 0,\n",
      " 'number_of_models': 0,\n",
      " 'number_of_optimls': 0,\n",
      " 'number_of_pca': 0,\n",
      " 'number_of_predictions': 0,\n",
      " 'number_of_projections': 0,\n",
      " 'number_of_statisticaltests': 0,\n",
      " 'number_of_timeseries': 0,\n",
      " 'number_of_topicdistributions': 0,\n",
      " 'number_of_topicmodels': 0,\n",
      " 'private': True,\n",
      " 'project': 'project/5c815181c7736e3b48008aac',\n",
      " 'resource': 'source/5c815231c7736e3b48008abb',\n",
      " 'shared': False,\n",
      " 'size': 6905,\n",
      " 'source_parser': {'header': True,\n",
      "                   'locale': 'en_US',\n",
      "                   'missing_tokens': ['',\n",
      "                                      'NaN',\n",
      "                                      'NULL',\n",
      "                                      'N/A',\n",
      "                                      'null',\n",
      "                                      '-',\n",
      "                                      '#REF!',\n",
      "                                      '#VALUE!',\n",
      "                                      '?',\n",
      "                                      '#NULL!',\n",
      "                                      '#NUM!',\n",
      "                                      '#DIV/0',\n",
      "                                      'n/a',\n",
      "                                      '#NAME?',\n",
      "                                      'NIL',\n",
      "                                      'nil',\n",
      "                                      'na',\n",
      "                                      '#N/A',\n",
      "                                      'NA'],\n",
      "                   'quote': '\"',\n",
      "                   'separator': ','},\n",
      " 'status': {'code': 5,\n",
      "            'elapsed': 665,\n",
      "            'message': 'The source has been created',\n",
      "            'progress': 1},\n",
      " 'subscription': False,\n",
      " 'tags': ['bindings example', 'diabetes'],\n",
      " 'term_analysis': {'enabled': True},\n",
      " 'type': 0,\n",
      " 'updated': '2019-03-07T17:17:38.779000'}\n"
     ]
    }
   ],
   "source": [
    "api.ok(source)\n",
    "pprint(source[\"object\"])"
   ]
  },
  {
   "cell_type": "markdown",
   "metadata": {},
   "source": [
    "**api.ok** waits for the source creation to finish and updates the contents of the **source** variable with the current remote version of the source. Thus, now we can see that the **source** variable contains the description of the fields inferred from the uploaded file. We'll write two auxiliar functions using **api.ok** to show the resources once they are finished or to warn us about any errors."
   ]
  },
  {
   "cell_type": "code",
   "execution_count": 15,
   "metadata": {
    "collapsed": false
   },
   "outputs": [],
   "source": [
    "def check(resource):\n",
    "    \"\"\"\n",
    "        Checks whether the resource status is *finished* or\n",
    "        prints an error if something fails.\n",
    "    \"\"\"\n",
    "    # api.ok uses api.get_[resouce_type] to retrieve the status of the resource\n",
    "    # till it reaches a final state (either FINISHED or FAULTY)\n",
    "    # as defined in \n",
    "    if not api.ok(resource):\n",
    "        print(\"Error!!!: Failed to create resource %s\" % \\\n",
    "            resource.get(\n",
    "                'resource',\n",
    "                resource.get('object', {}).get('name')))\n",
    "\n",
    "def check_and_show(resource):\n",
    "    \"\"\"\n",
    "        Checks whether the resource status is *finished*\n",
    "        and shows its contents or prints an error if something failed.\n",
    "    \"\"\"\n",
    "    check(resource)\n",
    "    pprint(resource)\n"
   ]
  },
  {
   "cell_type": "markdown",
   "metadata": {},
   "source": [
    "#### View source in BIGML's web site\n",
    "As all **BigML**'s applications work on top of the same **API**, the source we've just created appears immediately in the source listings of our web dashboard."
   ]
  },
  {
   "cell_type": "code",
   "execution_count": 16,
   "metadata": {
    "collapsed": false,
    "scrolled": true
   },
   "outputs": [
    {
     "name": "stdout",
     "output_type": "stream",
     "text": [
      "https://bigml.com/dashboard/sources\n"
     ]
    }
   ],
   "source": [
    "BIGML_DASHBOARD_URL = 'https://bigml.com/dashboard'\n",
    "sources_list_url = \"%s/sources\" % BIGML_DASHBOARD_URL\n",
    "print(sources_list_url)"
   ]
  },
  {
   "cell_type": "markdown",
   "metadata": {},
   "source": [
    "Now that our data is uploaded, we'd need to check that the **fields** characteristics inferred in our **source** are really the expected ones. As that's the case, the next step will be creating a **dataset** from it."
   ]
  },
  {
   "cell_type": "markdown",
   "metadata": {},
   "source": [
    "#### CREATING DATASET"
   ]
  },
  {
   "cell_type": "markdown",
   "metadata": {},
   "source": [
    "The dataset will provide information about **errors**, **missing** values in fields and **histograms**."
   ]
  },
  {
   "cell_type": "code",
   "execution_count": 17,
   "metadata": {
    "collapsed": true
   },
   "outputs": [],
   "source": [
    "dataset = api.create_dataset(source)\n",
    "check(dataset)"
   ]
  },
  {
   "cell_type": "markdown",
   "metadata": {},
   "source": [
    "Summaries show the number of **missings** and **errors** and we can decide what to do with them."
   ]
  },
  {
   "cell_type": "markdown",
   "metadata": {},
   "source": [
    "#### CREATING MODEL\n",
    "This is the real training part, where the algorithm learns the patterns in your data. Un supervised learning models, the **objective field** is the label that will be predicted by the model. BigML considers the last field to be the objective field if not said otherwise."
   ]
  },
  {
   "cell_type": "code",
   "execution_count": 18,
   "metadata": {
    "collapsed": false
   },
   "outputs": [],
   "source": [
    "model = api.create_model( \\\n",
    "    dataset,\n",
    "    {'name': \"Diabetes decision tree\",\n",
    "     'objective_field': \"diabetes\"})\n",
    "check(model)"
   ]
  },
  {
   "cell_type": "markdown",
   "metadata": {},
   "source": [
    "## PREDICTIONS INTEGRATION\n",
    "Eventually, the goal of our models will usually be creating predictions. We can create **remote predictions** by providing the new input data."
   ]
  },
  {
   "cell_type": "code",
   "execution_count": 19,
   "metadata": {
    "collapsed": false,
    "scrolled": true
   },
   "outputs": [
    {
     "name": "stdout",
     "output_type": "stream",
     "text": [
      "prediction: true\n",
      "confidence: 0.79758\n",
      "path: [{'field': '000001', 'operator': '>', 'value': 123}, {'field': '000001', 'operator': '>', 'value': 166}, {'field': '000005', 'operator': '>', 'value': 23.1}]\n"
     ]
    }
   ],
   "source": [
    "input_data = {'plasma glucose': 180, 'bmi': 30}\n",
    "prediction = api.create_prediction(model,\n",
    "                                   input_data=input_data)\n",
    "check(prediction)\n",
    "print(\"prediction: %s\" % prediction[\"object\"][\"output\"])\n",
    "print(\"confidence: %s\" % prediction[\"object\"][\"confidence\"])\n",
    "print(\"path: %s\" % prediction[\"object\"][\"prediction_path\"][\"path\"])"
   ]
  },
  {
   "cell_type": "markdown",
   "metadata": {},
   "source": [
    "Of course, this method has latencies involved every time you make a prediction. If your predictions don't need to be immediate, then you can store the input data in a file and do a **remote batch prediction** with an entire test dataset."
   ]
  },
  {
   "cell_type": "markdown",
   "metadata": {},
   "source": [
    "## Model class: using the model locally to predict\n",
    "The JSON model that can be downloaded via the API has all the information needed to predict."
   ]
  },
  {
   "cell_type": "code",
   "execution_count": 20,
   "metadata": {
    "collapsed": false
   },
   "outputs": [
    {
     "data": {
      "text/plain": [
       "'data/diabetes_model.json'"
      ]
     },
     "execution_count": 20,
     "metadata": {},
     "output_type": "execute_result"
    }
   ],
   "source": [
    "LOCAL_MODEL_FILE = \"data/diabetes_model.json\"\n",
    "api.export(model, LOCAL_MODEL_FILE)"
   ]
  },
  {
   "cell_type": "markdown",
   "metadata": {},
   "source": [
    " The local **Model** object adds a **predict** method that can be used locally."
   ]
  },
  {
   "cell_type": "code",
   "execution_count": 21,
   "metadata": {
    "collapsed": false
   },
   "outputs": [
    {
     "name": "stdout",
     "output_type": "stream",
     "text": [
      "{'confidence': 0.79758,\n",
      " 'count': 24,\n",
      " 'distribution': [['true', 23], ['false', 1]],\n",
      " 'distribution_unit': 'categories',\n",
      " 'next': 'blood pressure',\n",
      " 'path': ['plasma glucose > 123', 'plasma glucose > 166', 'bmi > 23.1'],\n",
      " 'prediction': 'true',\n",
      " 'probability': 0.9362}\n"
     ]
    }
   ],
   "source": [
    "from bigml.model import Model\n",
    "\"\"\"\n",
    "    The **Model** object can use the contents of a Model\n",
    "    previously stored in a file or\n",
    "    internally download the model JSON structure once and\n",
    "    store it in a local directory for further use.\n",
    "\"\"\"\n",
    "local_model = Model(LOCAL_MODEL_FILE)\n",
    "pprint(local_model.predict(input_data, full=True))"
   ]
  },
  {
   "cell_type": "markdown",
   "metadata": {},
   "source": [
    "If you need to predict many rows at once, you can use the **BigMLer** command line, that uses this local **Model** object to create the predictions and store it in a file."
   ]
  },
  {
   "cell_type": "markdown",
   "metadata": {},
   "source": [
    "## Workflows"
   ]
  },
  {
   "cell_type": "markdown",
   "metadata": {
    "collapsed": true
   },
   "source": [
    "#### Basic prediction workflow\n",
    "\n",
    "To sum up, the basic prediction workflow will need some steps:\n",
    "\n",
    "- Upload the data to create a Source\n",
    "- Summarize all data in a Dataset\n",
    "- Create a Model from the Dataset\n",
    "- Use the Model to produce a prediction for the new data\n",
    "\n",
    "Using the diabetes example, to produce this workflow using the bindings you would use this code"
   ]
  },
  {
   "cell_type": "code",
   "execution_count": null,
   "metadata": {
    "collapsed": false
   },
   "outputs": [],
   "source": [
    "import csv\n",
    "from bigml.api import BigML\n",
    "from bigml.model import Model\n",
    "\n",
    "api = BigML()\n",
    "source = api.create_source(DIABETES_FILE, {\"project\": PROJECT})\n",
    "api.ok(source)\n",
    "dataset = api.create_dataset(source)\n",
    "api.ok(dataset)\n",
    "model = api.create_model(dataset)\n",
    "api.ok(model)\n",
    "\n",
    "local_model = Model(model)\n",
    "with open(\"data/diabetes_test.csv\") as test_handler:\n",
    "    reader = csv.DictReader(test_handler)\n",
    "    for input_data in reader:\n",
    "    # predicting for all rows\n",
    "        print(local_model.predict(input_data))"
   ]
  },
  {
   "cell_type": "markdown",
   "metadata": {},
   "source": [
    "**Back to the slides** to learn how this can be improved"
   ]
  },
  {
   "cell_type": "markdown",
   "metadata": {},
   "source": [
    "#### Canonical Workflows: BigMLer\n",
    "\n",
    "The same could be achieved in a single line command"
   ]
  },
  {
   "cell_type": "code",
   "execution_count": null,
   "metadata": {
    "collapsed": false
   },
   "outputs": [],
   "source": [
    "DIABETES = \"data/diabetes.csv\"\n",
    "DIABETES_TEST = \"data/diabetes_test.csv\"\n",
    "!bigmler --train $DIABETES --test $DIABETES_TEST \\\n",
    "         --output-dir diabetes-prediction \\\n",
    "         --project-id $PROJECT \\\n",
    "         --tag \"best-diabetes\" \\\n",
    "         --name \"Diabetes with BigMLer\""
   ]
  },
  {
   "cell_type": "markdown",
   "metadata": {},
   "source": [
    "And if we want to evaluate this model, we can add the **--evaluate** flag"
   ]
  },
  {
   "cell_type": "code",
   "execution_count": null,
   "metadata": {
    "collapsed": false
   },
   "outputs": [],
   "source": [
    "!bigmler --train $DIABETES \\\n",
    "         --test-split 0.2 \\\n",
    "         --output-dir diabetes-eval \\\n",
    "         --project-id $PROJECT \\\n",
    "         --name \"Diabetes evaluated with BigMLer\" \\\n",
    "         --seed \"bigml\" \\\n",
    "         --evaluate\n"
   ]
  },
  {
   "cell_type": "markdown",
   "metadata": {},
   "source": [
    "#### Retrain with cumulative data\n",
    "\n",
    "Usually, you start your project uploading a sample of data and playing with it till you discover the workflow that gives you acceptable results. Then, the rest of data is uploaded and you'd like to repeat the same process on the accumulated data. **BigMLer** can help you do that. In this example, we do a regular model creation workflow."
   ]
  },
  {
   "cell_type": "code",
   "execution_count": null,
   "metadata": {
    "collapsed": false,
    "scrolled": true
   },
   "outputs": [],
   "source": [
    "!bigmler --version"
   ]
  },
  {
   "cell_type": "code",
   "execution_count": null,
   "metadata": {
    "collapsed": false
   },
   "outputs": [],
   "source": [
    "!bigmler --train data/diabetes.csv \\\n",
    "         --tag best_diabetes \\\n",
    "         --name \"Cumulative diabetes data\" \\\n",
    "         --output-dir ./initial_model"
   ]
  },
  {
   "cell_type": "code",
   "execution_count": null,
   "metadata": {
    "collapsed": false
   },
   "outputs": [],
   "source": [
    "MODEL_ID = \"model/5c80070d7811dd1853006c04\"\n",
    "!bigmler retrain --add data/diabetes_more.csv \\\n",
    "                 --id $MODEL_ID \\\n",
    "                 --output-dir cumulative_retrain"
   ]
  },
  {
   "cell_type": "code",
   "execution_count": 22,
   "metadata": {
    "collapsed": true
   },
   "outputs": [],
   "source": [
    "from bigml.api import BigML\n",
    "api = BigML()"
   ]
  },
  {
   "cell_type": "code",
   "execution_count": 23,
   "metadata": {
    "collapsed": false
   },
   "outputs": [
    {
     "data": {
      "text/plain": [
       "{'code': 201,\n",
       " 'error': None,\n",
       " 'location': 'http://bigml.io/andromeda/source/5c881cd85299633066001007',\n",
       " 'object': {'category': 0,\n",
       "  'code': 201,\n",
       "  'configuration': None,\n",
       "  'configuration_status': False,\n",
       "  'content_type': 'text/csv',\n",
       "  'created': '2019-03-12T20:55:52.348306',\n",
       "  'creator': 'merce_demo',\n",
       "  'credits': 0.0,\n",
       "  'description': '',\n",
       "  'disable_datetime': False,\n",
       "  'field_types': {'categorical': 0,\n",
       "   'datetime': 0,\n",
       "   'items': 0,\n",
       "   'numeric': 0,\n",
       "   'text': 0,\n",
       "   'total': 0},\n",
       "  'fields_meta': {'count': 0, 'limit': 1000, 'offset': 0, 'total': 0},\n",
       "  'file_name': 'chat2.csv',\n",
       "  'item_analysis': {},\n",
       "  'md5': '6f4f1565c869c5839e86e54caff5350c',\n",
       "  'name': 'chat2.csv',\n",
       "  'name_options': '',\n",
       "  'number_of_anomalies': 0,\n",
       "  'number_of_anomalyscores': 0,\n",
       "  'number_of_associations': 0,\n",
       "  'number_of_associationsets': 0,\n",
       "  'number_of_centroids': 0,\n",
       "  'number_of_clusters': 0,\n",
       "  'number_of_correlations': 0,\n",
       "  'number_of_datasets': 0,\n",
       "  'number_of_deepnets': 0,\n",
       "  'number_of_ensembles': 0,\n",
       "  'number_of_forecasts': 0,\n",
       "  'number_of_logisticregressions': 0,\n",
       "  'number_of_models': 0,\n",
       "  'number_of_optimls': 0,\n",
       "  'number_of_pca': 0,\n",
       "  'number_of_predictions': 0,\n",
       "  'number_of_projections': 0,\n",
       "  'number_of_statisticaltests': 0,\n",
       "  'number_of_timeseries': 0,\n",
       "  'number_of_topicdistributions': 0,\n",
       "  'number_of_topicmodels': 0,\n",
       "  'private': True,\n",
       "  'project': None,\n",
       "  'resource': 'source/5c881cd85299633066001007',\n",
       "  'shared': False,\n",
       "  'size': 35774,\n",
       "  'source_parser': {},\n",
       "  'status': {'code': 1,\n",
       "   'message': 'The source creation request has been queued and will be processed soon',\n",
       "   'progress': 0},\n",
       "  'subscription': False,\n",
       "  'tags': [],\n",
       "  'term_analysis': {},\n",
       "  'type': 0,\n",
       "  'updated': '2019-03-12T20:55:52.348330'},\n",
       " 'resource': 'source/5c881cd85299633066001007'}"
      ]
     },
     "execution_count": 23,
     "metadata": {},
     "output_type": "execute_result"
    }
   ],
   "source": [
    "api.create_source(\"/home/merce/Downloads/chat2.csv\")"
   ]
  },
  {
   "cell_type": "code",
   "execution_count": 24,
   "metadata": {
    "collapsed": false
   },
   "outputs": [
    {
     "data": {
      "text/plain": [
       "'?username=merce_demo;api_key=9995b2f705b72de0c6ca90f1e1446acbf35daea8;'"
      ]
     },
     "execution_count": 24,
     "metadata": {},
     "output_type": "execute_result"
    }
   ],
   "source": [
    "api.auth"
   ]
  },
  {
   "cell_type": "code",
   "execution_count": null,
   "metadata": {
    "collapsed": true
   },
   "outputs": [],
   "source": []
  }
 ],
 "metadata": {
  "kernelspec": {
   "display_name": "Python 3",
   "language": "python",
   "name": "python3"
  },
  "language_info": {
   "codemirror_mode": {
    "name": "ipython",
    "version": 3
   },
   "file_extension": ".py",
   "mimetype": "text/x-python",
   "name": "python",
   "nbconvert_exporter": "python",
   "pygments_lexer": "ipython3",
   "version": "3.5.2"
  }
 },
 "nbformat": 4,
 "nbformat_minor": 0
}
