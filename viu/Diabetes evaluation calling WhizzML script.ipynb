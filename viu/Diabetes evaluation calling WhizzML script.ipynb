{
 "cells": [
  {
   "cell_type": "code",
   "execution_count": 2,
   "metadata": {},
   "outputs": [],
   "source": [
    "from bigml.api import BigML\n",
    "api = BigML()"
   ]
  },
  {
   "cell_type": "code",
   "execution_count": 3,
   "metadata": {},
   "outputs": [
    {
     "data": {
      "text/plain": [
       "True"
      ]
     },
     "execution_count": 3,
     "metadata": {},
     "output_type": "execute_result"
    }
   ],
   "source": [
    "# change the script ID to point to the one in your account\n",
    "SCRIPT_ID = \"script/5f9155f7440ca112b80c01a7\"\n",
    "DATA_URL = \"https://static.bigml.com/csv/diabetes.csv\"\n",
    "# defining inputs\n",
    "INPUTS = [[\"source-url1\", DATA_URL]]\n",
    "execution = api.create_execution(SCRIPT_ID,\n",
    "                                 {\"name\": \"Diabetes evaluation execution\",\n",
    "                                  \"inputs\": INPUTS})\n",
    "api.ok(execution)"
   ]
  },
  {
   "cell_type": "code",
   "execution_count": 4,
   "metadata": {},
   "outputs": [
    {
     "data": {
      "text/plain": [
       "'evaluation/5f916768440ca135fb034840'"
      ]
     },
     "execution_count": 4,
     "metadata": {},
     "output_type": "execute_result"
    }
   ],
   "source": [
    "execution[\"object\"][\"execution\"][\"result\"]"
   ]
  },
  {
   "cell_type": "code",
   "execution_count": null,
   "metadata": {},
   "outputs": [],
   "source": []
  }
 ],
 "metadata": {
  "kernelspec": {
   "display_name": "Python 3",
   "language": "python",
   "name": "python3"
  },
  "language_info": {
   "codemirror_mode": {
    "name": "ipython",
    "version": 3
   },
   "file_extension": ".py",
   "mimetype": "text/x-python",
   "name": "python",
   "nbconvert_exporter": "python",
   "pygments_lexer": "ipython3",
   "version": "3.6.4"
  }
 },
 "nbformat": 4,
 "nbformat_minor": 4
}
