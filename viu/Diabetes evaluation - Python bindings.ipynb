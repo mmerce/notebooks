{
 "cells": [
  {
   "cell_type": "code",
   "execution_count": null,
   "metadata": {},
   "outputs": [],
   "source": [
    "# Connection needs environment variables BIGML_USERNAME and BIGML_API_KEY\n",
    "from bigml.api import BigML\n",
    "api = BigML()"
   ]
  },
  {
   "cell_type": "code",
   "execution_count": null,
   "metadata": {},
   "outputs": [],
   "source": [
    "# create source from remote file\n",
    "source = api.create_source(\"https://static.bigml.com/csv/diabetes.csv\")\n",
    "api.ok(source)"
   ]
  },
  {
   "cell_type": "code",
   "execution_count": null,
   "metadata": {},
   "outputs": [],
   "source": [
    "# create dataset from source\n",
    "dataset = api.create_dataset(source)\n",
    "api.ok(dataset)\n",
    "dataset_name = dataset[\"object\"][\"name\"]\n",
    "print(dataset_name)"
   ]
  },
  {
   "cell_type": "code",
   "execution_count": null,
   "metadata": {},
   "outputs": [],
   "source": [
    "# create train dataset\n",
    "train_dataset = api.create_dataset(dataset,\n",
    "                                   {\"name\": \"%s - Train\" % dataset_name,\n",
    "                                    \"sample_rate\": 0.8,\n",
    "                                    \"seed\": \"bigml\"})\n",
    "api.ok(train_dataset)"
   ]
  },
  {
   "cell_type": "code",
   "execution_count": null,
   "metadata": {},
   "outputs": [],
   "source": [
    "# create model from training data\n",
    "model = api.create_model(train_dataset,\n",
    "                         {\"objective_field\": \"diabetes\"})\n",
    "api.ok(model)"
   ]
  },
  {
   "cell_type": "code",
   "execution_count": null,
   "metadata": {},
   "outputs": [],
   "source": [
    "# create test dataset\n",
    "test_dataset = api.create_dataset(dataset,\n",
    "                                  {\"name\": \"%s - Test\" % dataset_name,\n",
    "                                   \"sample_rate\": 0.8,\n",
    "                                   \"seed\": \"bigml\",\n",
    "                                   \"out_of_bag\": True})\n",
    "api.ok(test_dataset)"
   ]
  },
  {
   "cell_type": "code",
   "execution_count": null,
   "metadata": {},
   "outputs": [],
   "source": [
    "# create evaluation from model and test dataset\n",
    "evaluation = api.create_evaluation(model, test_dataset)\n",
    "api.ok(evaluation)"
   ]
  },
  {
   "cell_type": "code",
   "execution_count": null,
   "metadata": {},
   "outputs": [],
   "source": [
    "print(\"accuracy: %s\" % evaluation[\"object\"][\"result\"][\"model\"][\"accuracy\"])\n",
    "print(\"precision: %s\" % evaluation[\"object\"][\"result\"][\"model\"][\"average_precision\"])\n",
    "print(\"recall: %s\" % evaluation[\"object\"][\"result\"][\"model\"][\"average_recall\"])"
   ]
  },
  {
   "cell_type": "code",
   "execution_count": null,
   "metadata": {},
   "outputs": [],
   "source": []
  }
 ],
 "metadata": {
  "kernelspec": {
   "display_name": "Python 3",
   "language": "python",
   "name": "python3"
  },
  "language_info": {
   "codemirror_mode": {
    "name": "ipython",
    "version": 3
   },
   "file_extension": ".py",
   "mimetype": "text/x-python",
   "name": "python",
   "nbconvert_exporter": "python",
   "pygments_lexer": "ipython3",
   "version": "3.6.4"
  }
 },
 "nbformat": 4,
 "nbformat_minor": 4
}
